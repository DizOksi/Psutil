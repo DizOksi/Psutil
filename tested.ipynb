{
 "cells": [
  {
   "cell_type": "code",
   "execution_count": null,
   "metadata": {},
   "outputs": [],
   "source": [
    "import psutil\n",
    "import random\n",
    "import time\n",
    "import threading\n",
    "def test_measure():\n",
    "    count = 0\n",
    "    while count < 5:\n",
    "        tab = [random.randint(0, 1) for _ in range(1000000)]\n",
    "        s = set(tab)\n",
    "        count += 1\n",
    "    return s & s\n",
    "\n",
    "if __name__ == '__main__':\n",
    "    t1 = threading.Thread(target=test_measure)\n",
    "    t1.start()\n",
    "    pid = psutil.Process()\n",
    "    time_end = time.time() + 20  # + 20 seconds\n",
    "    cpu_count = psutil.cpu_count(logical=True)\n",
    "    while time.time() < time_end:\n",
    "        print(pid.cpu_percent(interval=1.0)/cpu_count)\n",
    "    t1.join()"
   ]
  },
  {
   "cell_type": "code",
   "execution_count": null,
   "metadata": {},
   "outputs": [],
   "source": [
    "import psutil\n",
    "import time\n",
    "import os\n",
    "\n",
    "while True:\n",
    "    cpu_percents = psutil.cpu_percent(interval=1, percpu=True)\n",
    "    for i, percentage in enumerate(cpu_percents):\n",
    "        print(f\"Загруженность ядра процессора {i+1}: {percentage}%\",int(percentage)*\"/\")\n",
    "    time.sleep(1)\n",
    "    os.system('clear')"
   ]
  },
  {
   "cell_type": "code",
   "execution_count": null,
   "metadata": {},
   "outputs": [],
   "source": [
    "import os\n",
    "print(\"Number of CPUs:\", os.cpu_count())"
   ]
  },
  {
   "cell_type": "code",
   "execution_count": null,
   "metadata": {},
   "outputs": [],
   "source": [
    "import psutil\n",
    "print(\"Zagruz procc:\", psutil.cpu_percent())\n",
    "print(\"Zagruz procc:\", psutil.cpu_count())\n",
    "\n",
    "import time\n",
    "from progress import IncrementalBar\n",
    "\n",
    "mylist = [1,2,3,4,5,6,7,8]\n",
    "\n",
    "bar = IncrementalBar('Countdown', max = len(mylist))\n",
    "\n",
    "for item in mylist:\n",
    "    bar.next()\n",
    "    time.sleep(1)\n",
    "\n",
    "bar.finish()"
   ]
  },
  {
   "cell_type": "code",
   "execution_count": null,
   "metadata": {},
   "outputs": [],
   "source": [
    "data = [\n",
    "    ['Volkswagen', 'Golf V', '2008', '8000', '154000'],\n",
    "    ['Mazda', 'CX-5', '2013', '14800', '117000'],\n",
    "    ['Honda', 'CR-V AWD', '2017', '22000', '57000'],\n",
    "    ['BMW', '320', '2015', '14700', '124000'],\n",
    "    ['BMW', 'X1', '2012', '17000', '62000'],\n",
    "    ['Mercedes-Benz', 'E 220', '2009', '9300', '240000'],\n",
    "    ['Volkswagen', 'Golf VI STYLE', '2011', '9700', '203000'],\n",
    "    ['Mazda', '6', '2006', '5600', '218000'],\n",
    "    ['Hyundai', 'Tucson LOUNGE 2009', '2008', '8899', '149000'],\n",
    "    ['BMW', '520', '2013', '21700', '146000'],\n",
    "    ['Toyota', 'Highlander', '2015', '28000', '120000'],\n",
    "    ['Mercedes-Benz', 'E 220', '2005', '8200', '276000'],\n",
    "    ['BMW', '328', '2012', '12500', '260000'],\n",
    "    ['Opel', 'Astra J', '2013', '9500', '224000'],\n",
    "    ['Volkswagen', 'Passat B7', '2013', '11750', '138000'],\n",
    "    ['Audi', 'A6 Quattro', '2006', '8000', '28000']\n",
    "    ]"
   ]
  },
  {
   "cell_type": "code",
   "execution_count": null,
   "metadata": {},
   "outputs": [],
   "source": [
    "print(data)"
   ]
  },
  {
   "cell_type": "code",
   "execution_count": 112,
   "metadata": {},
   "outputs": [],
   "source": [
    "import os\n",
    "import psutil"
   ]
  },
  {
   "cell_type": "code",
   "execution_count": null,
   "metadata": {},
   "outputs": [],
   "source": [
    "\n",
    "proc = ['pid','name', 'cpu_percent', 'memory_percent']\n",
    "data = []\n",
    "for i in range(30):\n",
    "    selected_data = []\n",
    "    for process in psutil.process_iter():\n",
    "        p_info = {attr: getattr(process, attr)() if callable(getattr(process, attr)) else getattr(process, attr) for attr in proc}\n",
    "        selected_data.append(p_info)\n",
    "    data.append(selected_data)\n",
    "data\n"
   ]
  },
  {
   "cell_type": "code",
   "execution_count": null,
   "metadata": {},
   "outputs": [],
   "source": [
    "data = []\n",
    "\n",
    "for i in range(30):\n",
    "    data.append(list(psutil.process_iter(attrs=['name', 'username', 'pid', 'exe'])))\n",
    "data"
   ]
  },
  {
   "cell_type": "code",
   "execution_count": null,
   "metadata": {},
   "outputs": [],
   "source": [
    "\n",
    "columns = ['name', 'username', 'pid', 'exe']"
   ]
  },
  {
   "cell_type": "code",
   "execution_count": null,
   "metadata": {},
   "outputs": [],
   "source": [
    "max_columns = [] # список максимальной длинны колонок\n",
    "for col in zip(*data):\n",
    "    len_el = []\n",
    "    [len_el.append(len(el)) for el in col]  \n",
    "    max_columns.append(max(len_el))"
   ]
  },
  {
   "cell_type": "code",
   "execution_count": null,
   "metadata": {},
   "outputs": [],
   "source": [
    "for column in columns:\n",
    "    print(f'{column:{max(max_columns)+1}}', end='')\n",
    "print()\n",
    "# печать разделителя шапки\n",
    "print(f'{\"=\"*max(max_columns)*5}')\n",
    "# печать тела таблицы\n",
    "for el in data:\n",
    "    for col in el:\n",
    "        print(f'{col:{max(max_columns)+1}}', end='')\n",
    "    print()"
   ]
  },
  {
   "cell_type": "code",
   "execution_count": null,
   "metadata": {},
   "outputs": [],
   "source": [
    "def show_cpu():\n",
    "    columns = proc.as_dict(attrs=['name', 'username', 'pid', 'exe'])\n",
    "    for n, column in enumerate(columns):\n",
    "        print(f'{column:{max_columns[n]+1}}')\n",
    "    i = 0\n",
    "    for proc in psutil.process_iter():\n",
    "        pinfo = proc.as_dict(attrs=['name','username', 'pid', 'exe'])\n",
    "        print(pinfo['name'], pinfo['username'] , pinfo['pid'], pinfo['exe'])\n",
    "        i += 1\n",
    "        if i == 30:\n",
    "            break\n",
    "    data.append(proc)\n",
    "data"
   ]
  },
  {
   "cell_type": "code",
   "execution_count": null,
   "metadata": {},
   "outputs": [],
   "source": [
    "data = []\n",
    "i=0\n",
    "for proc in psutil.process_iter():\n",
    "        info = []\n",
    "        pinfo = proc.as_dict(attrs=['name','username', 'pid', 'exe'])\n",
    "        #info = print(pinfo['name'], pinfo['username'], str(pinfo['pid']), pinfo['exe'])\n",
    "        data.append(print(pinfo['name'], pinfo['username'], pinfo['pid'], pinfo['exe']))\n",
    "        i += 1\n",
    "        if i == 30:\n",
    "                break\n",
    "#data.append(inf)\n",
    "        #data.append(info)\n",
    "print(data)\n",
    "\n",
    "# data = []\n",
    "# i = 0\n",
    "# for proc in psutil.process_iter():\n",
    "#     pinfo = proc.as_dict(attrs=['name', 'username', 'pid', 'exe'])\n",
    "#     data.append(pinfo)\n",
    "#     i += 1\n",
    "#     if i == 30:\n",
    "#         break\n",
    "\n",
    "# print(data)"
   ]
  },
  {
   "cell_type": "code",
   "execution_count": 113,
   "metadata": {},
   "outputs": [
    {
     "name": "stdout",
     "output_type": "stream",
     "text": [
      "Name                 Username             PID        Parent PID\n",
      "============================================================\n",
      "systemd              root                 1          0         \n",
      "kthreadd             root                 2          0         \n",
      "rcu_gp               root                 3          2         \n",
      "rcu_par_gp           root                 4          2         \n",
      "slub_flushwq         root                 5          2         \n",
      "netns                root                 6          2         \n",
      "kworker/0:0H-events_highpri root                 8          2         \n",
      "mm_percpu_wq         root                 11         2         \n",
      "rcu_tasks_kthread    root                 12         2         \n",
      "rcu_tasks_rude_kthread root                 13         2         \n",
      "rcu_tasks_trace_kthread root                 14         2         \n",
      "ksoftirqd/0          root                 15         2         \n",
      "rcu_preempt          root                 16         2         \n",
      "migration/0          root                 17         2         \n",
      "idle_inject/0        root                 18         2         \n",
      "cpuhp/0              root                 19         2         \n",
      "cpuhp/2              root                 20         2         \n",
      "idle_inject/2        root                 21         2         \n",
      "migration/2          root                 22         2         \n",
      "ksoftirqd/2          root                 23         2         \n",
      "kworker/2:0H-events_highpri root                 25         2         \n",
      "cpuhp/4              root                 26         2         \n",
      "idle_inject/4        root                 27         2         \n",
      "migration/4          root                 28         2         \n",
      "ksoftirqd/4          root                 29         2         \n",
      "kworker/4:0H-events_highpri root                 31         2         \n",
      "cpuhp/6              root                 32         2         \n",
      "idle_inject/6        root                 33         2         \n",
      "migration/6          root                 34         2         \n",
      "ksoftirqd/6          root                 35         2         \n"
     ]
    }
   ],
   "source": [
    "import psutil\n",
    "\n",
    "# Получаем информацию о процессах\n",
    "processes_info = []\n",
    "for process in psutil.process_iter(['pid', 'name', 'username', 'ppid']):\n",
    "    processes_info.append(process.info)\n",
    "\n",
    "# Выводим информацию о процессах в виде таблицы с указанными полями и указанным количеством процессов\n",
    "print(\"{:<20} {:<20} {:<10} {:<10}\".format('Name', 'Username', 'PID', 'Parent PID'))\n",
    "print(\"=\"*60)\n",
    "for info in processes_info[:30]:\n",
    "    print(\"{:<20} {:<20} {:<10} {:<10}\".format(info['name'], info['username'], info['pid'], info['ppid']))"
   ]
  },
  {
   "cell_type": "code",
   "execution_count": 129,
   "metadata": {},
   "outputs": [
    {
     "name": "stdout",
     "output_type": "stream",
     "text": [
      "Name                            | Username            | PID   | Parent PID\n",
      "===========================================================\n",
      "systemd                         | root                | 1     | 0   \n",
      "kthreadd                        | root                | 2     | 0   \n",
      "rcu_gp                          | root                | 3     | 2   \n",
      "rcu_par_gp                      | root                | 4     | 2   \n",
      "slub_flushwq                    | root                | 5     | 2   \n",
      "netns                           | root                | 6     | 2   \n",
      "kworker/0:0H-events_highpri     | root                | 8     | 2   \n",
      "mm_percpu_wq                    | root                | 11    | 2   \n",
      "rcu_tasks_kthread               | root                | 12    | 2   \n",
      "rcu_tasks_rude_kthread          | root                | 13    | 2   \n",
      "rcu_tasks_trace_kthread         | root                | 14    | 2   \n",
      "ksoftirqd/0                     | root                | 15    | 2   \n",
      "rcu_preempt                     | root                | 16    | 2   \n",
      "migration/0                     | root                | 17    | 2   \n",
      "idle_inject/0                   | root                | 18    | 2   \n",
      "cpuhp/0                         | root                | 19    | 2   \n",
      "cpuhp/2                         | root                | 20    | 2   \n",
      "idle_inject/2                   | root                | 21    | 2   \n",
      "migration/2                     | root                | 22    | 2   \n",
      "ksoftirqd/2                     | root                | 23    | 2   \n",
      "kworker/2:0H-events_highpri     | root                | 25    | 2   \n",
      "cpuhp/4                         | root                | 26    | 2   \n",
      "idle_inject/4                   | root                | 27    | 2   \n",
      "migration/4                     | root                | 28    | 2   \n",
      "ksoftirqd/4                     | root                | 29    | 2   \n",
      "kworker/4:0H-events_highpri     | root                | 31    | 2   \n",
      "cpuhp/6                         | root                | 32    | 2   \n",
      "idle_inject/6                   | root                | 33    | 2   \n",
      "migration/6                     | root                | 34    | 2   \n",
      "ksoftirqd/6                     | root                | 35    | 2   \n"
     ]
    }
   ],
   "source": [
    "processes_info = []\n",
    "for process in psutil.process_iter(['pid', 'name', 'username', 'ppid']):\n",
    "    processes_info.append(process.info)\n",
    "\n",
    "# Определяем максимальную длину значений для каждого поля\n",
    "max_name_length = max([len(info['name']) for info in processes_info]) - 8\n",
    "max_username_length = max([len(info['username']) for info in processes_info])\n",
    "max_pid_length = max([len(str(info['pid'])) for info in processes_info])\n",
    "max_ppid_length = max([len(str(info['ppid'])) for info in processes_info])\n",
    "\n",
    "# Выводим информацию о процессах в виде таблицы с указанными полями и колонками шириной по максимальной длине + 1\n",
    "print(\"{:<{name_length}} | {:<{username_length}} | {:<{pid_length}} | {:<{ppid_length}}\".format('Name', 'Username', 'PID', 'Parent PID', \n",
    "                                                                                        name_length=max_name_length,\n",
    "                                                                                        username_length=max_username_length,\n",
    "                                                                                        pid_length=max_pid_length,\n",
    "                                                                                        ppid_length=max_ppid_length))\n",
    "print(\"=\" * (max_name_length + max_username_length + max_pid_length + max_ppid_length))\n",
    "for info in processes_info[:30]:\n",
    "    print(\"{:<{name_length}} | {:<{username_length}} | {:<{pid_length}} | {:<{ppid_length}}\".format(info['name'], info['username'], info['pid'], info['ppid'], \n",
    "                                                                                                name_length=max_name_length,\n",
    "                                                                                                username_length=max_username_length,\n",
    "                                                                                                pid_length=max_pid_length,\n",
    "                                                                                                ppid_length=max_ppid_length))"
   ]
  },
  {
   "cell_type": "code",
   "execution_count": null,
   "metadata": {},
   "outputs": [],
   "source": [
    "import psutil\n",
    "\n",
    "# Декоратор для записи таблицы в текстовый файл\n",
    "def write_to_file(func):\n",
    "    def wrapper(*args, **kwargs):\n",
    "        # Создаем строку с таблицей\n",
    "        table = func(*args, **kwargs)\n",
    "\n",
    "        # Записываем таблицу в файл\n",
    "        with open(\"processes_table.txt\", \"w\") as file:\n",
    "            file.write(table)\n",
    "\n",
    "        # Возвращаем таблицу\n",
    "        return table\n",
    "    return wrapper\n",
    "\n",
    "# Получение информации о запущенных процессах\n",
    "def get_processes_info():\n",
    "    processes_info = []\n",
    "    for process in psutil.process_iter(['pid', 'name', 'username', 'ppid']):\n",
    "        processes_info.append(process.info)\n",
    "    return processes_info\n",
    "\n",
    "# Функция для отображения информации о процессах в виде таблицы\n",
    "@write_to_file\n",
    "def display_processes_table():\n",
    "    processes_info = get_processes_info()\n",
    "\n",
    "    # Определение максимальной длины для каждого поля\n",
    "    max_name_length = max(len(info['name']) for info in processes_info) + 1\n",
    "    max_username_length = max(len(info['username']) for info in processes_info) + 1\n",
    "    max_pid_length = max(len(str(info['pid'])) for info in processes_info) + 1\n",
    "    max_ppid_length = max(len(str(info['ppid'])) for info in processes_info) + 1\n",
    "\n",
    "    # Создание заголовка таблицы\n",
    "    table = \"{:<{name_length}} | {:<{username_length}} | {:<{pid_length}} | {:<{ppid_length}}\\n\".format('Name', 'Username', 'PID', 'Parent PID', \n",
    "                                        name_length=max_name_length,\n",
    "                                        username_length=max_username_length,\n",
    "                                        pid_length=max_pid_length,\n",
    "                                        ppid_length=max_ppid_length)\n",
    "\n",
    "    # Создание строк для каждого процесса\n",
    "    for info in processes_info[:30]:\n",
    "        table += \"{:<{name_length}} | {:<{username_length}} | {:<{pid_length}} | {:<{ppid_length}}\\n\".format(info['name'], info['username'], info['pid'], info['ppid'],\n",
    "                                        name_length=max_name_length,\n",
    "                                        username_length=max_username_length,\n",
    "                                        pid_length=max_pid_length,\n",
    "                                        ppid_length=max_ppid_length)\n",
    "\n",
    "    return table\n",
    "\n",
    "# Вызываем функцию для отображения таблицы и записи в файл\n",
    "display_processes_table()"
   ]
  },
  {
   "cell_type": "code",
   "execution_count": null,
   "metadata": {},
   "outputs": [],
   "source": [
    "data"
   ]
  },
  {
   "cell_type": "code",
   "execution_count": null,
   "metadata": {},
   "outputs": [],
   "source": [
    "columns = ['name', 'username', 'pid', 'exe']"
   ]
  },
  {
   "cell_type": "code",
   "execution_count": null,
   "metadata": {},
   "outputs": [],
   "source": [
    "max_columns = [] # список максимальной длинны колонок\n",
    "for col in zip(*data):\n",
    "    len_el = []\n",
    "    [len_el.append(len(el)) for el in col]  \n",
    "    max_columns.append(max(len_el))"
   ]
  },
  {
   "cell_type": "code",
   "execution_count": null,
   "metadata": {},
   "outputs": [],
   "source": [
    "for column in columns:\n",
    "    print(f'{column:{max(max_columns)+1}}', end='')\n",
    "print()\n",
    "# печать разделителя шапки\n",
    "print(f'{\"=\"*max(max_columns)*5}')\n",
    "# печать тела таблицы\n",
    "for el in data:\n",
    "    for col in el:\n",
    "        print(f'{col:{max(max_columns+1)}}', end = '')\n",
    "        # print(f'{col:{max(max_columns)+1}}', end='')\n",
    "    print()"
   ]
  },
  {
   "cell_type": "code",
   "execution_count": null,
   "metadata": {},
   "outputs": [],
   "source": [
    "processes_info = []\n",
    "for process in psutil.process_iter(['pid', 'name', 'username', 'cpu_percent', 'memory_percent']):\n",
    "    processes_info.append(process.info)\n",
    "\n",
    "# Определяем максимальные длины столбцов\n",
    "max_pid_length = max(len(str(info['pid'])) for info in processes_info)\n",
    "max_name_length = max(len(info['name']) for info in processes_info)\n",
    "max_username_length = max(len(info['username']) for info in processes_info)\n",
    "\n",
    "# Выводим информацию о процессах в виде таблицы с равной шириной колонок\n",
    "i = 0\n",
    "for info in processes_info:\n",
    "    print(\"%-*s %-*s %-*s %-*s %-*s\" % (max_pid_length+1, info['pid'], max_name_length+1, info['name'], max_username_length+1, info['username'], 10,info['cpu_percent'], 10,info['memory_percent']))\n",
    "    i += 1\n",
    "    if i == 30:\n",
    "        break"
   ]
  }
 ],
 "metadata": {
  "kernelspec": {
   "display_name": ".venv",
   "language": "python",
   "name": "python3"
  },
  "language_info": {
   "codemirror_mode": {
    "name": "ipython",
    "version": 3
   },
   "file_extension": ".py",
   "mimetype": "text/x-python",
   "name": "python",
   "nbconvert_exporter": "python",
   "pygments_lexer": "ipython3",
   "version": "3.10.12"
  }
 },
 "nbformat": 4,
 "nbformat_minor": 2
}
